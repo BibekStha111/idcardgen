{
 "cells": [
  {
   "cell_type": "code",
   "execution_count": 34,
   "metadata": {},
   "outputs": [],
   "source": [
    "facultyName = \"computer\"\n",
    "facultyText = f\"B.E {str.capitalize(facultyName)}\"\n",
    "qrFacultyText = f\"{facultyText} Engineering 2079\""
   ]
  },
  {
   "cell_type": "code",
   "execution_count": 35,
   "metadata": {},
   "outputs": [],
   "source": [
    "from PIL import Image, ImageDraw, ImageFont\n",
    "import openpyxl\n",
    "import qrcode"
   ]
  },
  {
   "cell_type": "code",
   "execution_count": 36,
   "metadata": {},
   "outputs": [],
   "source": [
    "wb = openpyxl.load_workbook('.confidential/student-detail.xlsx')\n",
    "sheet = wb[facultyName]\n",
    "maxr = sheet.max_row\n",
    "students = {\n",
    "    \"names\": [],\n",
    "    \"rolls\": []\n",
    "}\n",
    "for i in range(3, maxr+1):  #row and column indexing starts from 1!!! <furious>\n",
    "    sname = sheet.cell(i, 2)\n",
    "    sroll = sheet.cell(i, 3)\n",
    "    if sname.value != None and sroll.value != None:\n",
    "        students[\"names\"].append(str.lower(sname.value))\n",
    "        students[\"rolls\"].append(sroll.value)"
   ]
  },
  {
   "cell_type": "code",
   "execution_count": 37,
   "metadata": {},
   "outputs": [],
   "source": [
    "background = Image.open('.confidential/id-bg.tif')\n",
    "sign = Image.open('.confidential/sign.png')\n",
    "stamp = Image.open('.confidential/stamp.png')\n",
    "myfont = ImageFont.truetype('./Roboto-Bold.ttf', 40)"
   ]
  },
  {
   "cell_type": "code",
   "execution_count": 38,
   "metadata": {},
   "outputs": [],
   "source": [
    "#qr code generation\n",
    "def qrGen(name: str, roll: str) -> Image:\n",
    "    text = f\"{name}\\n{roll}\\n{qrFacultyText}\"\n",
    "    qrImg = qrcode.make(text)\n",
    "    qrImg = qrImg.resize((150, 150))\n",
    "    return qrImg"
   ]
  },
  {
   "cell_type": "code",
   "execution_count": 39,
   "metadata": {},
   "outputs": [],
   "source": [
    "for i, name in enumerate(students[\"names\"]):\n",
    "    background = Image.open('.confidential/id-bg.tif')\n",
    "    ppLoc = f\"{facultyName}-pics/{name}.jpeg\"\n",
    "    ppPhoto = Image.open(ppLoc)\n",
    "    size = (245, 297)\n",
    "    ppPhoto = ppPhoto.resize(size) \n",
    "    text = f'''Name: {name.title()}\n",
    "Program: {facultyText}\n",
    "Roll No.: {students[\"rolls\"][i]}\n",
    "Issued Date: 2079-09-15\n",
    "Expiry Date: 2083-09-14'''\n",
    "    textDrawer = ImageDraw.Draw(background)\n",
    "    textDrawer.text((23, 582), text, font=myfont, fill=(0, 0, 0))\n",
    "    background.paste(ppPhoto, (203, 240))   #paste the pp photo onto the background image\n",
    "    background.paste(sign, (440, 800), sign)\n",
    "    background.paste(stamp, (390, 370), stamp)\n",
    "    qrImg = qrGen(name, students[\"rolls\"][i])\n",
    "    background.paste(qrImg, (30, 300))\n",
    "    background.save(f'./comp-out/{name}.jpg')"
   ]
  }
 ],
 "metadata": {
  "kernelspec": {
   "display_name": ".env",
   "language": "python",
   "name": "python3"
  },
  "language_info": {
   "codemirror_mode": {
    "name": "ipython",
    "version": 3
   },
   "file_extension": ".py",
   "mimetype": "text/x-python",
   "name": "python",
   "nbconvert_exporter": "python",
   "pygments_lexer": "ipython3",
   "version": "3.10.9"
  },
  "orig_nbformat": 4,
  "vscode": {
   "interpreter": {
    "hash": "f24432b7040fa5527012a3b632ba3191812b4e0c8de86c89fc25f76dc819111b"
   }
  }
 },
 "nbformat": 4,
 "nbformat_minor": 2
}
